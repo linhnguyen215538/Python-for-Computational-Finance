{
 "cells": [
  {
   "cell_type": "code",
   "execution_count": 5,
   "metadata": {
    "scrolled": true
   },
   "outputs": [
    {
     "name": "stdout",
     "output_type": "stream",
     "text": [
      "Part a - Final Wealth is [2.50000000e+01 1.69522062e+04 6.05724760e+05 1.01850074e+06\n",
      " 5.73990005e+04 5.52051642e+01 2.55467560e-04 4.64058882e-13\n",
      " 1.03042290e-27 2.29680534e-56 0.00000000e+00]\n",
      "Sample win ratio is 0.5980066445182725\n",
      "Final Wealth is [2.50000000e+01 2.27889581e+03 1.05041941e+04 2.08693165e+03\n",
      " 1.19987630e+01 9.34904304e-04 2.43632850e-10 1.35924087e-20\n",
      " 2.95522401e-37 3.74617603e-69 0.00000000e+00]\n",
      "Sample win ratio is 0.5614617940199336\n",
      "Final Wealth is [2.50000000e+01 2.05079553e+02 8.09594646e+01 1.23983667e+00\n",
      " 4.60696649e-04 1.75918739e-09 1.45216495e-17 1.23983652e-29\n",
      " 1.04635799e-48 1.69256349e-84 0.00000000e+00]\n",
      "Sample win ratio is 0.5647840531561462\n",
      "Final Wealth is [2.50000000e+01 2.50652786e+02 1.21439197e+02 2.30255382e+00\n",
      " 1.07495885e-03 5.27756216e-09 5.80865980e-17 7.02574026e-29\n",
      " 9.41722188e-48 3.21587063e-83 0.00000000e+00]\n",
      "Sample win ratio is 0.5681063122923588\n",
      "Final Wealth is [2.50000000e+01 3.74431940e+02 2.73238193e+02 7.94146114e+00\n",
      " 5.85255373e-03 4.74980594e-08 9.29385568e-16 2.25604326e-27\n",
      " 7.62794972e-46 1.16092930e-80 0.00000000e+00]\n",
      "Sample win ratio is 0.6079734219269103\n",
      "Final Wealth is [2.50000000e+01 3.40427646e+03 2.36344366e+04 7.19778467e+03\n",
      " 6.53265988e+01 8.41413873e-03 3.89812560e-09 4.36467345e-19\n",
      " 2.39373145e-35 1.35236955e-66 0.00000000e+00]\n",
      "Sample win ratio is 0.6013289036544851\n",
      "Final Wealth is [2.50000000e+01 2.78531710e+03 1.57562911e+04 3.87573021e+03\n",
      " 2.79971138e+01 2.80471291e-03 9.74531401e-10 7.70236490e-20\n",
      " 2.65970161e-36 7.11773445e-68 0.00000000e+00]\n",
      "Sample win ratio is 0.5980066445182725\n",
      "Final Wealth is [2.50000000e+01 1.86455112e+03 7.00279604e+03 1.12373243e+03\n",
      " 5.14232702e+00 3.11634768e-04 6.09082126e-11 2.39866035e-21\n",
      " 3.28358224e-38 1.97167159e-70 0.00000000e+00]\n",
      "Sample win ratio is 0.6378737541528239\n",
      "Final Wealth is [2.50000000e+01 2.07193632e+04 9.08587141e+05 1.89150137e+06\n",
      " 1.33931001e+05 1.65615493e+02 1.02187024e-03 2.62966700e-12\n",
      " 9.27380609e-27 4.36393015e-55 0.00000000e+00]\n",
      "Sample win ratio is 0.6312292358803987\n",
      "Final Wealth is [2.50000000e+01 1.38699869e+04 4.03816507e+05 5.48423475e+05\n",
      " 2.45995716e+04 1.84017214e+01 6.38668899e-05 8.18927439e-14\n",
      " 1.14491433e-28 1.20884492e-57 0.00000000e+00]\n",
      "Sample win ratio is 0.6611295681063123\n",
      "Final Wealth is [2.50000000e+01 1.03175791e+05 2.32860946e+07 2.67651178e+08\n",
      " 1.17678032e+08 1.08660325e+06 6.69692879e+01 2.79590293e-06\n",
      " 3.99206943e-19 7.41150828e-45 0.00000000e+00]\n",
      "The betting ratio that gives you the max final wealth in each simulation is [0.2 0.1 0.1 0.1 0.2 0.2 0.2 0.3 0.3 0.3]\n",
      "A good betting ratio out of the 10 simulations is 0.2\n"
     ]
    }
   ],
   "source": [
    "import numpy as np\n",
    "import statistics\n",
    "\n",
    "def kelly_criterion(p,q,b,N):\n",
    "    p=0.6\n",
    "    q=1-p\n",
    "    b=1\n",
    "    N=300\n",
    "\n",
    "    #wN is wealth after N games, wN[0] is initial wealth, result = final wealth\n",
    "    #win_ratio = number of games won out of N games\n",
    "    wN= np.zeros(301)\n",
    "    wN[0]=25\n",
    "    result= np.zeros(11)\n",
    "    win_ratio = np.zeros(11)\n",
    "    average_wealth = np.zeros(11)\n",
    "\n",
    "    x=np.arange(0, 1.1,0.1)\n",
    "\n",
    "    sim=np.zeros(10)\n",
    "\n",
    "    #Part a \n",
    "    head_vs_tail_a = np.random.binomial(1,p,301)\n",
    "    for betting_ratio in x:\n",
    "            for i in range(1, N+1): \n",
    "                if head_vs_tail_a[i]==1: \n",
    "                    wN[i] = wN[i-1]*(1+betting_ratio*b)\n",
    "                else: \n",
    "                    wN[i] = wN[i-1]*(1-betting_ratio)\n",
    "            result[int(betting_ratio*10)] = wN[N]\n",
    "\n",
    "    print(\"Part a - Final Wealth is\", result)\n",
    "\n",
    "    #Part b\n",
    "    for v in range(0,10):\n",
    "        head_vs_tail = np.random.binomial(1,p,301)\n",
    "        win_ratio[v]= sum(head_vs_tail)/301\n",
    "        print (\"Sample win ratio is\",win_ratio[v])\n",
    "        for betting_ratio in x:\n",
    "            for i in range(1, N+1): \n",
    "                if head_vs_tail[i]==1: \n",
    "                    wN[i] = wN[i-1]*(1+betting_ratio*b)\n",
    "                else: \n",
    "                    wN[i] = wN[i-1]*(1-betting_ratio)\n",
    "            result[int(betting_ratio*10)] = wN[N]\n",
    "\n",
    "        print(\"Final Wealth is\", result)\n",
    "        sim[v]=np.argmax(result)\n",
    "\n",
    "    print(\"The betting ratio that gives you the max final wealth in each simulation is\", sim*0.1)\n",
    "    print(\"A good betting ratio out of the 10 simulations is\", statistics.mode(sim)*0.1)\n",
    "\n",
    "kelly_criterion(0.6,0.4,1,300)\n"
   ]
  },
  {
   "cell_type": "code",
   "execution_count": 6,
   "metadata": {},
   "outputs": [
    {
     "name": "stdout",
     "output_type": "stream",
     "text": [
      "[2.50000000e+01 1.68275533e+04 1.12712281e+07 7.53944999e+08\n",
      " 2.46276572e+09 2.15051160e+08 1.75770319e+05 1.68483946e-01\n",
      " 1.54663859e-12 2.39160356e-35 0.00000000e+00]\n",
      "The betting ratio resulting in max average wealth is: 0.4\n"
     ]
    }
   ],
   "source": [
    "p=0.6\n",
    "q=1-p\n",
    "b=1\n",
    "N=300\n",
    "\n",
    "#wN is wealth after N games, wN[0] is initial wealth, result = final wealth\n",
    "#win_ratio = number of games won out of N games\n",
    "wN= np.zeros(301)\n",
    "wN[0]=25\n",
    "result= np.zeros(11)\n",
    "win_ratio = np.zeros(11)\n",
    "average_wealth = np.zeros(11)\n",
    "output = np.zeros((100,11))\n",
    "x=np.arange(0, 1.1,0.1)\n",
    "\n",
    "sim=np.zeros(10)\n",
    "\n",
    "#Part c\n",
    "\n",
    "for u in range(0,100):\n",
    "    head_vs_tail_c = np.random.binomial(1,p,301)\n",
    "    #win_ratio[v]= sum(head_vs_tail)/301\n",
    "    #print (\"Sample win ratio is\",win_ratio[v])\n",
    "    for betting_ratio in x:\n",
    "        for i in range(1, N+1): \n",
    "            if head_vs_tail_c[i]==1: \n",
    "                wN[i] = wN[i-1]*(1+betting_ratio*b)\n",
    "            else: \n",
    "                wN[i] = wN[i-1]*(1-betting_ratio)\n",
    "            output[u][int(betting_ratio*10)] = wN[N]\n",
    "average_wealth = np.mean(output,axis=0)\n",
    "print(average_wealth)\n",
    "print(\"The betting ratio resulting in max average wealth is:\", round(np.argmax(average_wealth)*0.1,2))\n"
   ]
  },
  {
   "cell_type": "code",
   "execution_count": null,
   "metadata": {},
   "outputs": [],
   "source": [
    "\n"
   ]
  },
  {
   "cell_type": "code",
   "execution_count": null,
   "metadata": {},
   "outputs": [],
   "source": []
  }
 ],
 "metadata": {
  "kernelspec": {
   "display_name": "Python 3",
   "language": "python",
   "name": "python3"
  },
  "language_info": {
   "codemirror_mode": {
    "name": "ipython",
    "version": 3
   },
   "file_extension": ".py",
   "mimetype": "text/x-python",
   "name": "python",
   "nbconvert_exporter": "python",
   "pygments_lexer": "ipython3",
   "version": "3.7.1"
  }
 },
 "nbformat": 4,
 "nbformat_minor": 2
}
