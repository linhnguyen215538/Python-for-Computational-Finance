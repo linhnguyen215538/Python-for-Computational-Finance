{
 "cells": [
  {
   "cell_type": "code",
   "execution_count": 122,
   "metadata": {},
   "outputs": [
    {
     "name": "stdout",
     "output_type": "stream",
     "text": [
      "506\n",
      "[362.11500549 467.77500153 277.52398682]\n"
     ]
    }
   ],
   "source": [
    "import numpy as np\n",
    "import pandas as pd\n",
    "from pandas_datareader import data, wb\n",
    "import datetime as dt\n",
    "from scipy.stats import norm\n",
    "import matplotlib.pyplot as plt\n",
    "%matplotlib inline\n",
    "\n",
    "start = dt.datetime(2018,4,3)\n",
    "end = dt.datetime(2020,4,3)\n",
    "aapl = pd.read_csv('hw4_AAPL.csv')\n",
    "fb = pd.read_csv('hw4_FB.csv')\n",
    "baba = pd.read_csv('hw4_BABA.csv')\n",
    "\n",
    "N = len(aapl['Close'])\n",
    "print(N)\n",
    "p1 = aapl.loc[N-1]['Close']\n",
    "p2 = baba.loc[N-1]['Close']\n",
    "p3 = fb.loc[N-1]['Close']\n",
    "\n",
    "#print(p1)\n",
    "w = np.zeros(3)\n",
    "w[0]= p1*1.5\n",
    "w[1]= p2*2.5\n",
    "w[2]= p3*1.8\n",
    "print(w)\n",
    "r1 = np.log(aapl.Close) - np.log(aapl.Close.shift(1))\n",
    "r2 = np.log(baba.Close) - np.log(baba.Close.shift(1))\n",
    "r3 = np.log(fb.Close) - np.log(fb.Close.shift(1))\n",
    "\n"
   ]
  },
  {
   "cell_type": "code",
   "execution_count": 134,
   "metadata": {},
   "outputs": [
    {
     "data": {
      "text/plain": [
       "array([[0.00259932, 0.00138446, 0.00220834],\n",
       "       [0.00138446, 0.0009408 , 0.00127432],\n",
       "       [0.00220834, 0.00127432, 0.00226502]])"
      ]
     },
     "execution_count": 134,
     "metadata": {},
     "output_type": "execute_result"
    }
   ],
   "source": [
    "#compute variance-covariance matrix\n",
    "sigma = np.zeros((3,3))\n",
    "sigma[0][0],sigma[1][1],sigma[2][2] = r1_ewm_var,r3_ewm_var,r2_ewm_var\n",
    "sigma[0][1]=sigma[1][0] = r13_corr*np.sqrt(r1_ewm_var)*np.sqrt(r3_ewm_var)\n",
    "sigma[0][2]=sigma[2][0] = r12_corr*np.sqrt(r1_ewm_var)*np.sqrt(r2_ewm_var)\n",
    "sigma[1][2]=sigma[2][1] = r23_corr*np.sqrt(r2_ewm_var)*np.sqrt(r3_ewm_var)\n",
    "sigma\n"
   ]
  },
  {
   "cell_type": "code",
   "execution_count": 124,
   "metadata": {},
   "outputs": [
    {
     "name": "stdout",
     "output_type": "stream",
     "text": [
      "1-day parametric VaR in millions is 85.05825012068846\n"
     ]
    }
   ],
   "source": [
    "#calculate 1-day parametric VaR\n",
    "para_VaR = norm.ppf(0.9725)*np.sqrt(w.T.dot(sigma).dot(w))\n",
    "print(\"1-day parametric VaR in millions is {}\".format(para_VaR))\n"
   ]
  },
  {
   "cell_type": "code",
   "execution_count": 125,
   "metadata": {},
   "outputs": [
    {
     "name": "stdout",
     "output_type": "stream",
     "text": [
      "1-day historical VaR in millions is 44.2911413376049\n"
     ]
    }
   ],
   "source": [
    "#Part b\n",
    "#pnl = tomorrow's price - today's price\n",
    "pnl = 1.5*(p1*np.exp(r1)-p1)+ 1.8*(p2*np.exp(r2)-p2)+ 2.5*(p3*np.exp(r3)-p3)\n",
    "#97.25% 1 day VAR\n",
    "hist_VaR = -pnl.quantile(1-.9725)\n",
    "print(\"1-day historical VaR in millions is {}\".format(hist_VaR))"
   ]
  },
  {
   "cell_type": "code",
   "execution_count": 126,
   "metadata": {},
   "outputs": [],
   "source": [
    "#Part c\n",
    "#We can see that parametric VAR is higher than historical VAR. I would recommend parametric VAR because it's safer and more and more conservative. \n"
   ]
  },
  {
   "cell_type": "code",
   "execution_count": 2,
   "metadata": {},
   "outputs": [
    {
     "name": "stdout",
     "output_type": "stream",
     "text": [
      "0.061144787994785864\n"
     ]
    },
    {
     "data": {
      "text/plain": [
       "0.31644686038665193"
      ]
     },
     "execution_count": 2,
     "metadata": {},
     "output_type": "execute_result"
    }
   ],
   "source": [
    "#Q3b\n",
    "import numpy as np\n",
    "mu,sig,alpha = 2,1,0.9725\n",
    "N=10000\n",
    "\n",
    "def sim_ES(N, mu, sig, alpha): \n",
    "    X = np.random.normal(mu, sig,N)\n",
    "    VaR = np.quantile(X,1-0.9725)\n",
    "    print(VaR)\n",
    "    result = np.zeros(N)\n",
    "    count= 0\n",
    "    for i in range (N):\n",
    "        if X[i]<=VaR:\n",
    "            result[i] = -X[i]\n",
    "            count +=1\n",
    "        else: \n",
    "            result[i] =0\n",
    "            \n",
    "    return sum(result)/count\n",
    "\n",
    "sim_ES(N, mu, sig, alpha)"
   ]
  },
  {
   "cell_type": "code",
   "execution_count": 135,
   "metadata": {},
   "outputs": [
    {
     "data": {
      "text/plain": [
       "0.30156138426362844"
      ]
     },
     "execution_count": 135,
     "metadata": {},
     "output_type": "execute_result"
    }
   ],
   "source": [
    "# Compute theoretical value\n",
    "theo_value =-mu+(sig*norm.pdf(norm.ppf(alpha)))/(1-alpha)\n",
    "theo_value"
   ]
  },
  {
   "cell_type": "code",
   "execution_count": 136,
   "metadata": {},
   "outputs": [
    {
     "name": "stdout",
     "output_type": "stream",
     "text": [
      "[0.281054235830405, 0.4139469194775623, 0.27188901592102016, 0.25165597383371047, 0.2635993803471123, 0.3010385849521516, 0.2965215751245609, 0.2990606192800709, 0.2970082502780808, 0.2994574294090627]\n"
     ]
    },
    {
     "data": {
      "text/plain": [
       "<matplotlib.legend.Legend at 0x1e3ea177c50>"
      ]
     },
     "execution_count": 136,
     "metadata": {},
     "output_type": "execute_result"
    },
    {
     "data": {
      "image/png": "[encoded data removed]",
      "text/plain": [
       "<Figure size 432x288 with 1 Axes>"
      ]
     },
     "metadata": {
      "needs_background": "light"
     },
     "output_type": "display_data"
    }
   ],
   "source": [
    "#Part c: Plot graph\n",
    "path = [1000,2000,5000,10000,20000,50000,100000,200000,500000,1000000]\n",
    "ES_MC = [sim_ES(N, mu, sig, alpha) for N in path]\n",
    "\n",
    "print(ES_MC)\n",
    "plt.plot(path,ES_MC,label='Monte Carlo ES')\n",
    "plt.hlines(theo_value,xmin= path[0], xmax = path[9], colors='orange', linestyles='solid', label='Theortical ES')\n",
    "plt.xlabel(\"The path number\")\n",
    "plt.ylabel(\"ES value\")\n",
    "plt.title(\"Monte Carlo and Theortical ES vs Path Number\")\n",
    "plt.legend()"
   ]
  },
  {
   "cell_type": "code",
   "execution_count": 137,
   "metadata": {},
   "outputs": [
    {
     "name": "stdout",
     "output_type": "stream",
     "text": [
      "102.0215797226299\n"
     ]
    }
   ],
   "source": [
    "ES_para = norm.pdf(norm.ppf(0.9725))*np.sqrt(w.T.dot(sigma).dot(w))/(1-0.9725)\n",
    "print(ES_para)"
   ]
  },
  {
   "cell_type": "code",
   "execution_count": 142,
   "metadata": {},
   "outputs": [
    {
     "name": "stdout",
     "output_type": "stream",
     "text": [
      "64.77354777908782\n"
     ]
    }
   ],
   "source": [
    "results = np.zeros(len(pnl))\n",
    "count = 0\n",
    "for i in range (len(pnl)):\n",
    "    if pnl[i]>=hist_VaR:\n",
    "        results[i] = pnl[i]\n",
    "        count +=1\n",
    "    else: \n",
    "        results[i] =0\n",
    "        \n",
    "ES_hist = sum(results)/count\n",
    "print(ES_hist)\n"
   ]
  },
  {
   "cell_type": "code",
   "execution_count": 143,
   "metadata": {},
   "outputs": [
    {
     "name": "stdout",
     "output_type": "stream",
     "text": [
      "37.248031943542074\n"
     ]
    }
   ],
   "source": [
    "#Comment: \n",
    "diff = ES_para - ES_hist\n",
    "print(diff)\n",
    "\n",
    "#We can see that the historical ES is smaller than the parametric ES. Historical VAR doesn't require any assumptions, so the kurtosis\n",
    "#of the distribution can vary, while parametric VAR requires the pnl distribution to be normal. In this case, the tails of the\n",
    "#historical ES distribution are smaller than that of the para VAR. The parametric ES again provides a more conservative solution to \n",
    "#the problem, which can be a good thing in risk management. In general, parametric ES is better for linear instrument.  "
   ]
  },
  {
   "cell_type": "code",
   "execution_count": null,
   "metadata": {},
   "outputs": [],
   "source": []
  }
 ],
 "metadata": {
  "kernelspec": {
   "display_name": "Python 3",
   "language": "python",
   "name": "python3"
  },
  "language_info": {
   "codemirror_mode": {
    "name": "ipython",
    "version": 3
   },
   "file_extension": ".py",
   "mimetype": "text/x-python",
   "name": "python",
   "nbconvert_exporter": "python",
   "pygments_lexer": "ipython3",
   "version": "3.7.1"
  }
 },
 "nbformat": 4,
 "nbformat_minor": 2
}
