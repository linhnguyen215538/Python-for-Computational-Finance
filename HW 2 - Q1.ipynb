{
 "cells": [
  {
   "cell_type": "code",
   "execution_count": 50,
   "metadata": {
    "scrolled": false
   },
   "outputs": [
    {
     "name": "stdout",
     "output_type": "stream",
     "text": [
      "What option do you want to evaluate (\"Call\", \"Put\", \"Forward Contract\")Call\n",
      "Theoretical option value is 20.691818313854952\n",
      "Theoretical delta value is 0.8885902097987676\n",
      "Values of N, V_sim and its confidence interval are 390542 20.749601324150788 [20.69893545 20.8002672 ]\n"
     ]
    },
    {
     "data": {
      "text/plain": [
       "(390542, 20.749601324150788, array([20.69893545, 20.8002672 ]))"
      ]
     },
     "execution_count": 50,
     "metadata": {},
     "output_type": "execute_result"
    }
   ],
   "source": [
    "import numpy as np\n",
    "import statistics\n",
    "import matplotlib.pyplot as plt\n",
    "from scipy.stats import norm\n",
    "import seaborn as sns\n",
    "\n",
    "option = input('What option do you want to evaluate (\"Call\", \"Put\", \"Forward Contract\")')\n",
    "S0, K, T, r, q, sigma, tol= 180, 160, 88/365, 0.01, 0.015, 0.2, 0.1\n",
    "\n",
    "k=10000\n",
    "#Calculate Payoff and sd of sample and estimate N\n",
    "z_sample= np.random.normal(0,1,size = k)\n",
    "St_sample= S0*np.exp((r-q-(sigma**2)/2)*T+sigma*np.sqrt(T)*z_sample)\n",
    "W_sample = np.zeros(k)\n",
    "\n",
    "if option ==\"Call\":\n",
    "    W_sample = np.exp(-r*T)*np.maximum(St_sample -K, 0)\n",
    "elif option ==\"Put\": \n",
    "    W_sample = np.exp(-r*T)*np.maximum(-St_sample +K, 0)\n",
    "else: \n",
    "    W_sample = St_sample\n",
    "\n",
    "sd_sample= np.std(W_sample)\n",
    "N=int((1.96*sd_sample/(tol/2))**2)\n",
    "    \n",
    "#Calculate theoretical option values\n",
    "d1= (np.log(S0/K) + (r-q+sigma**2/2)*T)/(sigma*np.sqrt(T))\n",
    "d2= d1-sigma*np.sqrt(T)\n",
    "\n",
    "theo_value = 0\n",
    "theo_delta = 0\n",
    "\n",
    "if option ==\"Call\":\n",
    "    theo_value = S0*np.exp(-q*T)*norm.cdf(d1)-np.exp(-r*T)*K*norm.cdf(d2)\n",
    "    theo_delta = np.exp(-q*T)*norm.cdf(d1)\n",
    "elif option ==\"Put\": \n",
    "    theo_value = -S0*np.exp(-q*T)*norm.cdf(-d1)+np.exp(-r*T)*K*norm.cdf(-d2)\n",
    "    theo_delta = np.exp(-q*T)*(norm.cdf(d1)-1)\n",
    "else: \n",
    "    theo_value = S0*np.exp((r-q)*T)\n",
    "    theo_delta = np.exp(-q*T)\n",
    "\n",
    "print(\"Theoretical option value is\", theo_value)\n",
    "print(\"Theoretical delta value is\", theo_delta)\n",
    "\n",
    "#Part a: Calculate new option value as average of W1 to WN\n",
    "def price_of_trade_a(S0, r,q,K,sigma, tol,N,option):\n",
    "    z= np.random.normal(0,1, size =N)\n",
    "    St= S0*np.exp((r-q-(sigma**2)/2)*T+sigma*np.sqrt(T)*z)\n",
    "    W = np.zeros(N)\n",
    "    \n",
    "    if option ==\"Call\":\n",
    "        W = np.exp(-r*T)*np.maximum(St -K, 0)\n",
    "    elif option ==\"Put\": \n",
    "        W = np.exp(-r*T)*np.maximum(-St+K, 0)\n",
    "    else: \n",
    "        W = St\n",
    "    \n",
    "    V_sim = np.mean(W)\n",
    "    sd = np.std(W)\n",
    "   \n",
    "    conf_int = np.zeros(2)\n",
    "    conf_int[0] = V_sim-1.96*sd/np.sqrt(N)\n",
    "    conf_int[1] = V_sim+1.96*sd/np.sqrt(N)\n",
    "    \n",
    "    print(\"Values of N, V_sim and its confidence interval are\", N, V_sim, conf_int)\n",
    "#     print(V_sim)\n",
    "#     print(conf_int)\n",
    "#     print(conf_int[1]-conf_int[0])\n",
    "    return N, V_sim, conf_int \n",
    "\n",
    "price_of_trade_a(S0, r,q,K,sigma, tol,N, option)\n",
    "\n"
   ]
  },
  {
   "cell_type": "code",
   "execution_count": 41,
   "metadata": {
    "scrolled": true
   },
   "outputs": [
    {
     "data": {
      "image/png": "[encoded data removed]",
      "text/plain": [
       "<Figure size 432x288 with 1 Axes>"
      ]
     },
     "metadata": {
      "needs_background": "light"
     },
     "output_type": "display_data"
    }
   ],
   "source": [
    "#Part b\n",
    "#Same as part a function but without the print out of values\n",
    "def price_of_trade(S0, r,q,K,sigma, tol,N,option):\n",
    "    z= np.random.normal(0,1, size =N)\n",
    "    St= S0*np.exp((r-q-(sigma**2)/2)*T+sigma*np.sqrt(T)*z)\n",
    "    W = np.zeros(N)\n",
    "    \n",
    "    if option ==\"Call\":\n",
    "        W = np.exp(-r*T)*np.maximum(St -K, 0)\n",
    "    elif option ==\"Put\": \n",
    "        W = np.exp(-r*T)*np.maximum(-St+K, 0)\n",
    "    else: \n",
    "        W = St\n",
    "    \n",
    "    V_sim = np.mean(W)\n",
    "    sd = np.std(W)\n",
    "   \n",
    "    conf_int = np.zeros(2)\n",
    "    conf_int[0] = V_sim-1.96*sd/np.sqrt(N)\n",
    "    conf_int[1] = V_sim+1.96*sd/np.sqrt(N)\n",
    "    \n",
    "    return V_sim\n",
    "\n",
    "M=1000\n",
    "def part_b(M):\n",
    "    values = np.zeros(M)\n",
    "    for i in range (0, M):\n",
    "        values[i]=price_of_trade(S0, r,q,K,sigma, tol,N,option)\n",
    "        \n",
    "    plt.hist(values, bins = 30, label = str(M)+\" simulated option value\")\n",
    "    plt.vlines(theo_value, ymin = 0, ymax = 120, colors='red', linestyles='solid', label='Theoretical Option value')\n",
    "    plt.legend()\n",
    "\n",
    "part_b(M)\n",
    "\n"
   ]
  },
  {
   "cell_type": "code",
   "execution_count": 42,
   "metadata": {
    "scrolled": false
   },
   "outputs": [
    {
     "name": "stdout",
     "output_type": "stream",
     "text": [
      "Do you want to use antithetical draw (\"Yes\", \"No\")Yes\n",
      "17480\n"
     ]
    },
    {
     "data": {
      "image/png": "[encoded data removed]",
      "text/plain": [
       "<Figure size 432x288 with 1 Axes>"
      ]
     },
     "metadata": {
      "needs_background": "light"
     },
     "output_type": "display_data"
    }
   ],
   "source": [
    "#Partc\n",
    "import matplotlib.pyplot as plt\n",
    "draw = input('Do you want to use antithetical draw (\"Yes\", \"No\")')\n",
    "if N %2 ==0:\n",
    "    n = N\n",
    "else: \n",
    "    n = int((N+1)/2)\n",
    "\n",
    "print(n)\n",
    "\n",
    "def antithetical_draw(S0, r,q,K,sigma, tol,n,option,draw):\n",
    "    V_simc = np.zeros(n)\n",
    "    W_pos= np.zeros(n)\n",
    "    W_neg= np.zeros(n)\n",
    "    \n",
    "    if draw == \"Yes\": \n",
    "        pos_z= np.random.normal(0,1, size =n)\n",
    "        neg_z = pos_z*(-1)\n",
    "        pos_St= S0*np.exp((r-q-(sigma**2)/2)*T+sigma*np.sqrt(T)*pos_z)\n",
    "        neg_St= S0*np.exp((r-q-(sigma**2)/2)*T+sigma*np.sqrt(T)*neg_z)\n",
    "\n",
    "        if option ==\"Call\":\n",
    "            W_pos= np.exp(-r*T)*np.maximum(pos_St -K, 0)\n",
    "            W_neg= np.exp(-r*T)*np.maximum(neg_St -K, 0)\n",
    "        elif option ==\"Put\": \n",
    "            W_pos = np.exp(-r*T)*np.maximum(-pos_St+K, 0)\n",
    "            W_neg = np.exp(-r*T)*np.maximum(-neg_St+K, 0)\n",
    "        else: \n",
    "            W_pos= pos_St\n",
    "            W_neg = neg_St\n",
    "\n",
    "        V_simc = (np.mean(W_pos) + np.mean(W_neg))/2\n",
    "\n",
    "    else: \n",
    "        V_simc = price_of_trade(S0, r,q,K,sigma, tol,N,option)\n",
    "    \n",
    "    return V_simc\n",
    "\n",
    "antithetical_draw(S0, r,q,K,sigma, tol,n,option,draw)\n",
    "\n",
    "Mc=1000\n",
    "def part_c(Mc):\n",
    "    \n",
    "    values_c = np.zeros(Mc)\n",
    "\n",
    "    for v in range (0, Mc):\n",
    "        values_c[v]=antithetical_draw(S0, r,q,K,sigma, tol,n,option,draw)\n",
    "\n",
    "#print (values_c)\n",
    "#   vlines(x, ymin, ymax, colors='k', linestyles='solid', label=''\n",
    "    plt.hist(values_c, bins = 30, label = \"Antithetical simulated values\" )\n",
    "    plt.legend()\n",
    "    #sns.distplot(values_c)\n",
    "\n",
    "\n",
    "part_b(M)\n",
    "part_c(Mc)"
   ]
  },
  {
   "cell_type": "code",
   "execution_count": 70,
   "metadata": {
    "scrolled": true
   },
   "outputs": [
    {
     "data": {
      "text/plain": [
       "array([0.90706559, 0.91618544, 0.92204813, 0.91873056, 0.92380265,\n",
       "       0.94065144, 0.9386828 , 0.94165106, 0.95058999, 0.94900244,\n",
       "       0.95390613, 0.9569562 , 0.95815895, 0.96046803, 0.96108432,\n",
       "       0.96183753, 0.96355064, 0.96603943, 0.9702182 , 0.96938504,\n",
       "       0.97022988, 0.97157784, 0.97353955, 0.9739631 ])"
      ]
     },
     "execution_count": 70,
     "metadata": {},
     "output_type": "execute_result"
    },
    {
     "data": {
      "image/png": "[encoded data removed]",
      "text/plain": [
       "<Figure size 432x288 with 1 Axes>"
      ]
     },
     "metadata": {
      "needs_background": "light"
     },
     "output_type": "display_data"
    }
   ],
   "source": [
    "#Part d: \n",
    "\n",
    "def part_di():\n",
    "    epsilon = np.zeros(24)\n",
    "    delta = np.zeros(24)\n",
    "    V_simd1= np.zeros(24)\n",
    "    V_simd2= np.zeros(24)\n",
    "    for u in range(1,25): \n",
    "        epsilon[u-1] = u*0.01*S0\n",
    "        V_simd1[u-1] = price_of_trade(S0+epsilon[u-1], r,q,K,sigma, tol,N,option)\n",
    "        V_simd2[u-1] = price_of_trade(S0, r,q,K,sigma, tol,N,option)\n",
    "        delta[u-1] = (V_simd1[u-1] - V_simd2[u-1])/epsilon[u-1]\n",
    "#       diff = np.abs(delta-theo_delta)\n",
    "#     plt.plot(epsilon, diff, label = \"Absolute error in deltas\")\n",
    "#     plt.xlabel('Epsilon')\n",
    "#     plt.ylabel('Absolute Error')\n",
    "    plt.plot(epsilon, delta, label = \"Simulated deltas\")\n",
    "    plt.hlines(theo_delta, xmin= epsilon[0], xmax = epsilon[23], colors='red', linestyles='solid', label='Theoretical Delta')\n",
    "    plt.legend()\n",
    "    return delta\n",
    "    \n",
    "part_di()\n",
    "\n",
    "\n"
   ]
  },
  {
   "cell_type": "code",
   "execution_count": 71,
   "metadata": {},
   "outputs": [
    {
     "name": "stdout",
     "output_type": "stream",
     "text": [
      "[0.00964424 0.01688465 0.02395425 0.03134728 0.03834526 0.04339576\n",
      " 0.04757168 0.0521862  0.05646248 0.05996669 0.06317464 0.06643061\n",
      " 0.06850328 0.07082968 0.07259887 0.07554082 0.07762536 0.07856862\n",
      " 0.08029299 0.08186531 0.08236574 0.08381717 0.0844099  0.08547977]\n"
     ]
    },
    {
     "ename": "TypeError",
     "evalue": "'str' object is not callable",
     "output_type": "error",
     "traceback": [
      "\u001b[1;31m---------------------------------------------------------------------------\u001b[0m",
      "\u001b[1;31mTypeError\u001b[0m                                 Traceback (most recent call last)",
      "\u001b[1;32m<ipython-input-71-a8f283abf31d>\u001b[0m in \u001b[0;36m<module>\u001b[1;34m\u001b[0m\n\u001b[0;32m     33\u001b[0m     \u001b[1;32mreturn\u001b[0m \u001b[0mV_sim_dii\u001b[0m\u001b[1;33m,\u001b[0m \u001b[0mV_sim_shifted\u001b[0m\u001b[1;33m\u001b[0m\u001b[1;33m\u001b[0m\u001b[0m\n\u001b[0;32m     34\u001b[0m \u001b[1;33m\u001b[0m\u001b[0m\n\u001b[1;32m---> 35\u001b[1;33m \u001b[0mpart_dii\u001b[0m\u001b[1;33m(\u001b[0m\u001b[0mS0\u001b[0m\u001b[1;33m,\u001b[0m \u001b[0mr\u001b[0m\u001b[1;33m,\u001b[0m\u001b[0mq\u001b[0m\u001b[1;33m,\u001b[0m\u001b[0mK\u001b[0m\u001b[1;33m,\u001b[0m\u001b[0msigma\u001b[0m\u001b[1;33m,\u001b[0m \u001b[0mtol\u001b[0m\u001b[1;33m,\u001b[0m\u001b[0mN\u001b[0m\u001b[1;33m,\u001b[0m\u001b[0moption\u001b[0m\u001b[1;33m)\u001b[0m\u001b[1;33m\u001b[0m\u001b[1;33m\u001b[0m\u001b[0m\n\u001b[0m",
      "\u001b[1;32m<ipython-input-71-a8f283abf31d>\u001b[0m in \u001b[0;36mpart_dii\u001b[1;34m(S0, r, q, K, sigma, tol, N, option)\u001b[0m\n\u001b[0;32m     28\u001b[0m     \u001b[0mprint\u001b[0m\u001b[1;33m(\u001b[0m\u001b[0mdelta_dii\u001b[0m\u001b[1;33m-\u001b[0m\u001b[0mtheo_delta\u001b[0m\u001b[1;33m)\u001b[0m\u001b[1;33m\u001b[0m\u001b[1;33m\u001b[0m\u001b[0m\n\u001b[0;32m     29\u001b[0m     \u001b[0mplt\u001b[0m\u001b[1;33m.\u001b[0m\u001b[0mplot\u001b[0m\u001b[1;33m(\u001b[0m\u001b[0mepsilon\u001b[0m\u001b[1;33m,\u001b[0m \u001b[0mdelta_dii\u001b[0m\u001b[1;33m,\u001b[0m \u001b[0mlabel\u001b[0m \u001b[1;33m=\u001b[0m \u001b[1;34m\"Simulated delta\"\u001b[0m\u001b[1;33m)\u001b[0m\u001b[1;33m\u001b[0m\u001b[1;33m\u001b[0m\u001b[0m\n\u001b[1;32m---> 30\u001b[1;33m     \u001b[0mplt\u001b[0m\u001b[1;33m.\u001b[0m\u001b[0mxlabel\u001b[0m\u001b[1;33m(\u001b[0m\u001b[1;34m\"x\"\u001b[0m\u001b[1;33m)\u001b[0m\u001b[1;33m\u001b[0m\u001b[1;33m\u001b[0m\u001b[0m\n\u001b[0m\u001b[0;32m     31\u001b[0m     \u001b[0mplt\u001b[0m\u001b[1;33m.\u001b[0m\u001b[0mhlines\u001b[0m\u001b[1;33m(\u001b[0m\u001b[0mtheo_delta\u001b[0m\u001b[1;33m,\u001b[0m \u001b[0mxmin\u001b[0m\u001b[1;33m=\u001b[0m \u001b[0mepsilon\u001b[0m\u001b[1;33m[\u001b[0m\u001b[1;36m0\u001b[0m\u001b[1;33m]\u001b[0m\u001b[1;33m,\u001b[0m \u001b[0mxmax\u001b[0m \u001b[1;33m=\u001b[0m \u001b[0mepsilon\u001b[0m\u001b[1;33m[\u001b[0m\u001b[1;36m23\u001b[0m\u001b[1;33m]\u001b[0m\u001b[1;33m,\u001b[0m \u001b[0mcolors\u001b[0m\u001b[1;33m=\u001b[0m\u001b[1;34m'red'\u001b[0m\u001b[1;33m,\u001b[0m \u001b[0mlinestyles\u001b[0m\u001b[1;33m=\u001b[0m\u001b[1;34m'solid'\u001b[0m\u001b[1;33m,\u001b[0m \u001b[0mlabel\u001b[0m\u001b[1;33m=\u001b[0m\u001b[1;34m'Theoretical Delta'\u001b[0m\u001b[1;33m)\u001b[0m\u001b[1;33m\u001b[0m\u001b[1;33m\u001b[0m\u001b[0m\n\u001b[0;32m     32\u001b[0m     \u001b[0mplt\u001b[0m\u001b[1;33m.\u001b[0m\u001b[0mlegend\u001b[0m\u001b[1;33m(\u001b[0m\u001b[1;33m)\u001b[0m\u001b[1;33m\u001b[0m\u001b[1;33m\u001b[0m\u001b[0m\n",
      "\u001b[1;31mTypeError\u001b[0m: 'str' object is not callable"
     ]
    },
    {
     "data": {
      "image/png": "[encoded data removed]",
      "text/plain": [
       "<Figure size 432x288 with 1 Axes>"
      ]
     },
     "metadata": {
      "needs_background": "light"
     },
     "output_type": "display_data"
    }
   ],
   "source": [
    "def part_dii(S0, r,q,K,sigma, tol,N,option):\n",
    "    epsilon = np.zeros(24)\n",
    "    delta_dii = np.zeros(24)\n",
    "    V_sim_dii = np.zeros(24)\n",
    "    V_sim_shifted = np.zeros(24)\n",
    "    for u in range(1,25): \n",
    "        epsilon[u-1] = u*0.01*S0\n",
    "        z_dii= np.random.normal(0,1, size =N)\n",
    "        St_dii = S0*np.exp((r-q-(sigma**2)/2)*T+sigma*np.sqrt(T)*z_dii)\n",
    "        St_shifted = (S0+epsilon[u-1])*np.exp((r-q-(sigma**2)/2)*T+sigma*np.sqrt(T)*z_dii)\n",
    "        W_dii = np.zeros(N)\n",
    "        W_shifted = np.zeros(N)\n",
    "\n",
    "        if option ==\"Call\":\n",
    "            W_dii = np.exp(-r*T)*np.maximum(St_dii -K, 0)\n",
    "            W_shifted = np.exp(-r*T)*np.maximum(St_shifted -K, 0)\n",
    "        elif option ==\"Put\": \n",
    "            W_dii = np.exp(-r*T)*np.maximum(-St_dii+K, 0)\n",
    "            W_shifted = np.exp(-r*T)*np.maximum(-St_shifted+K, 0)\n",
    "        else: \n",
    "            W_dii = St_dii\n",
    "            W_shifted = St_shifted\n",
    "\n",
    "        V_sim_dii[u-1] = np.mean(W_dii)\n",
    "        V_sim_shifted[u-1] = np.mean(W_shifted)\n",
    "        #print((V_sim_shifted - V_sim_dii)/epsilon)\n",
    "        delta_dii[u-1] = (V_sim_shifted[u-1] - V_sim_dii[u-1])/epsilon[u-1]\n",
    "    print(delta_dii-theo_delta)\n",
    "    plt.plot(epsilon, delta_dii, label = \"Simulated delta\")\n",
    "    plt.hlines(theo_delta, xmin= epsilon[0], xmax = epsilon[23], colors='red', linestyles='solid', label='Theoretical Delta')\n",
    "    plt.legend()\n",
    "    return V_sim_dii, V_sim_shifted\n",
    "\n",
    "part_dii(S0, r,q,K,sigma, tol,N,option)\n"
   ]
  },
  {
   "cell_type": "code",
   "execution_count": null,
   "metadata": {},
   "outputs": [],
   "source": []
  },
  {
   "cell_type": "code",
   "execution_count": null,
   "metadata": {},
   "outputs": [],
   "source": []
  }
 ],
 "metadata": {
  "kernelspec": {
   "display_name": "Python 3",
   "language": "python",
   "name": "python3"
  },
  "language_info": {
   "codemirror_mode": {
    "name": "ipython",
    "version": 3
   },
   "file_extension": ".py",
   "mimetype": "text/x-python",
   "name": "python",
   "nbconvert_exporter": "python",
   "pygments_lexer": "ipython3",
   "version": "3.7.1"
  }
 },
 "nbformat": 4,
 "nbformat_minor": 2
}
