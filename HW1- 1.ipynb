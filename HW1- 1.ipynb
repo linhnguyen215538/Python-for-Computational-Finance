{
 "cells": [
  {
   "cell_type": "code",
   "execution_count": 52,
   "metadata": {
    "scrolled": true
   },
   "outputs": [
    {
     "name": "stdout",
     "output_type": "stream",
     "text": [
      "Part a - Final Wealth is [2.50000000e+01 2.50652786e+02 1.21439197e+02 2.30255382e+00\n",
      " 1.07495885e-03 5.27756216e-09 5.80865980e-17 7.02574026e-29\n",
      " 9.41722188e-48 3.21587063e-83 0.00000000e+00]\n",
      "Sample win ratio is 0.6146179401993356\n",
      "Final Wealth is [2.50000000e+01 6.21548966e+03 7.97662236e+04 4.61035945e+04\n",
      " 8.29889755e+02 2.27181746e-01 2.49480039e-07 7.94208913e-17\n",
      " 1.74503023e-32 9.27590271e-63 0.00000000e+00]\n",
      "Sample win ratio is 0.5681063122923588\n",
      "Final Wealth is [2.50000000e+01 3.74431940e+02 2.73238193e+02 7.94146114e+00\n",
      " 5.85255373e-03 4.74980594e-08 9.29385568e-16 2.25604326e-27\n",
      " 7.62794972e-46 1.16092930e-80 0.00000000e+00]\n",
      "Sample win ratio is 0.6345514950166113\n",
      "Final Wealth is [2.50000000e+01 1.69522062e+04 6.05724760e+05 1.01850074e+06\n",
      " 5.73990005e+04 5.52051642e+01 2.55467560e-04 4.64058882e-13\n",
      " 1.03042290e-27 2.29680534e-56 0.00000000e+00]\n",
      "Sample win ratio is 0.5946843853820598\n",
      "Final Wealth is [2.50000000e+01 1.52554182e+03 4.66853069e+03 6.05086692e+02\n",
      " 2.20385444e+00 1.03878256e-04 1.52270531e-11 4.23293003e-22\n",
      " 3.64842471e-39 1.03772189e-71 0.00000000e+00]\n",
      "Sample win ratio is 0.5548172757475083\n",
      "Final Wealth is [2.50000000e+01 1.37284659e+02 3.59819843e+01 3.59479272e-01\n",
      " 8.46177518e-05 1.95465265e-10 9.07603094e-19 3.86108258e-31\n",
      " 1.29179998e-50 4.68854153e-87 0.00000000e+00]\n",
      "Sample win ratio is 0.6245847176079734\n",
      "Final Wealth is [2.50000000e+01 9.28486727e+03 1.79474003e+05 1.59010357e+05\n",
      " 4.51828867e+03 2.04463571e+00 3.99168062e-06 2.55029306e-15\n",
      " 1.41347448e-30 3.34860088e-60 0.00000000e+00]\n",
      "Sample win ratio is 0.6212624584717608\n",
      "Final Wealth is [2.50000000e+01 7.59670959e+03 1.19649335e+05 8.56209613e+04\n",
      " 1.93640943e+03 6.81545237e-01 9.97920155e-07 4.50051717e-16\n",
      " 1.57052720e-31 1.76242152e-61 0.00000000e+00]\n",
      "Sample win ratio is 0.6245847176079734\n",
      "Final Wealth is [2.50000000e+01 9.28486727e+03 1.79474003e+05 1.59010357e+05\n",
      " 4.51828867e+03 2.04463571e+00 3.99168062e-06 2.55029306e-15\n",
      " 1.41347448e-30 3.34860088e-60 0.00000000e+00]\n",
      "Sample win ratio is 0.6146179401993356\n",
      "Final Wealth is [2.50000000e+01 5.08540063e+03 5.31774824e+04 2.48250124e+04\n",
      " 3.55667038e+02 7.57272486e-02 6.23700097e-08 1.40154514e-17\n",
      " 1.93892247e-33 4.88205406e-64 0.00000000e+00]\n",
      "Sample win ratio is 0.6212624584717608\n",
      "Final Wealth is [2.50000000e+01 9.28486727e+03 1.79474003e+05 1.59010357e+05\n",
      " 4.51828867e+03 2.04463571e+00 3.99168062e-06 2.55029306e-15\n",
      " 1.41347448e-30 3.34860088e-60 0.00000000e+00]\n",
      "The betting ratio that gives you the max final wealth in each simulation is [0.2 0.1 0.3 0.2 0.1 0.2 0.2 0.2 0.2 0.2]\n",
      "A good betting ratio out of the 10 simulations is 0.2\n"
     ]
    }
   ],
   "source": [
    "import numpy as np\n",
    "import statistics\n",
    "\n",
    "def kelly_criterion(p,q,b,N):\n",
    "    p=0.6\n",
    "    q=1-p\n",
    "    b=1\n",
    "    N=300\n",
    "\n",
    "    #wN is wealth after N games, wN[0] is initial wealth, result = final wealth\n",
    "    #win_ratio = number of games won out of N games\n",
    "    wN= np.zeros(301)\n",
    "    wN[0]=25\n",
    "    result= np.zeros(11)\n",
    "    win_ratio = np.zeros(11)\n",
    "    average_wealth = np.zeros(11)\n",
    "\n",
    "    x=np.arange(0, 1.1,0.1)\n",
    "\n",
    "    sim=np.zeros(10)\n",
    "\n",
    "    #Part a \n",
    "    head_vs_tail_a = np.random.binomial(1,p,301)\n",
    "    for betting_ratio in x:\n",
    "            for i in range(1, N+1): \n",
    "                if head_vs_tail_a[i]==1: \n",
    "                    wN[i] = wN[i-1]*(1+betting_ratio*b)\n",
    "                else: \n",
    "                    wN[i] = wN[i-1]*(1-betting_ratio)\n",
    "            result[int(betting_ratio*10)] = wN[N]\n",
    "\n",
    "    print(\"Part a - Final Wealth is\", result)\n",
    "\n",
    "    #Part b\n",
    "    for v in range(0,10):\n",
    "        head_vs_tail = np.random.binomial(1,p,301)\n",
    "        win_ratio[v]= sum(head_vs_tail)/301\n",
    "        print (\"Sample win ratio is\",win_ratio[v])\n",
    "        for betting_ratio in x:\n",
    "            for i in range(1, N+1): \n",
    "                if head_vs_tail[i]==1: \n",
    "                    wN[i] = wN[i-1]*(1+betting_ratio*b)\n",
    "                else: \n",
    "                    wN[i] = wN[i-1]*(1-betting_ratio)\n",
    "            result[int(betting_ratio*10)] = wN[N]\n",
    "\n",
    "        print(\"Final Wealth is\", result)\n",
    "        sim[v]=np.argmax(result)\n",
    "\n",
    "    print(\"The betting ratio that gives you the max final wealth in each simulation is\", sim*0.1)\n",
    "    print(\"A good betting ratio out of the 10 simulations is\", statistics.mode(sim)*0.1)\n",
    "\n",
    "kelly_criterion(0.6,0.4,1,300)\n"
   ]
  },
  {
   "cell_type": "code",
   "execution_count": 54,
   "metadata": {},
   "outputs": [
    {
     "name": "stdout",
     "output_type": "stream",
     "text": [
      "[2.50000000e+01 9.69613263e+03 1.02445096e+06 9.30501853e+06\n",
      " 3.93368759e+06 3.96230438e+04 2.95396544e+00 1.65446851e-07\n",
      " 3.64823412e-20 1.41252016e-45 0.00000000e+00]\n",
      "The betting ratio resulting in max average wealth is: 0.3\n"
     ]
    }
   ],
   "source": [
    "p=0.6\n",
    "q=1-p\n",
    "b=1\n",
    "N=300\n",
    "\n",
    "#wN is wealth after N games, wN[0] is initial wealth, result = final wealth\n",
    "#win_ratio = number of games won out of N games\n",
    "wN= np.zeros(301)\n",
    "wN[0]=25\n",
    "result= np.zeros(11)\n",
    "win_ratio = np.zeros(11)\n",
    "average_wealth = np.zeros(11)\n",
    "output = np.zeros((100,11))\n",
    "x=np.arange(0, 1.1,0.1)\n",
    "\n",
    "sim=np.zeros(10)\n",
    "\n",
    "#Part c\n",
    "\n",
    "for u in range(0,100):\n",
    "    head_vs_tail_c = np.random.binomial(1,p,301)\n",
    "    #win_ratio[v]= sum(head_vs_tail)/301\n",
    "    #print (\"Sample win ratio is\",win_ratio[v])\n",
    "    for betting_ratio in x:\n",
    "        for i in range(1, N+1): \n",
    "            if head_vs_tail_c[i]==1: \n",
    "                wN[i] = wN[i-1]*(1+betting_ratio*b)\n",
    "            else: \n",
    "                wN[i] = wN[i-1]*(1-betting_ratio)\n",
    "            output[u][int(betting_ratio*10)] = wN[N]\n",
    "average_wealth = np.mean(output,axis=0)\n",
    "print(average_wealth)\n",
    "print(\"The betting ratio resulting in max average wealth is:\", round(np.argmax(average_wealth)*0.1,2))\n"
   ]
  },
  {
   "cell_type": "code",
   "execution_count": null,
   "metadata": {},
   "outputs": [],
   "source": [
    "\n"
   ]
  },
  {
   "cell_type": "code",
   "execution_count": null,
   "metadata": {},
   "outputs": [],
   "source": []
  }
 ],
 "metadata": {
  "kernelspec": {
   "display_name": "Python 3",
   "language": "python",
   "name": "python3"
  },
  "language_info": {
   "codemirror_mode": {
    "name": "ipython",
    "version": 3
   },
   "file_extension": ".py",
   "mimetype": "text/x-python",
   "name": "python",
   "nbconvert_exporter": "python",
   "pygments_lexer": "ipython3",
   "version": "3.7.1"
  }
 },
 "nbformat": 4,
 "nbformat_minor": 2
}
